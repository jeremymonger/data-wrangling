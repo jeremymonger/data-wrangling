{
 "cells": [
  {
   "cell_type": "markdown",
   "metadata": {},
   "source": [
    "# Exploring @WeRateDogs Tweets\n",
    "\n",
    "For those who do not know, [WeRateDogs](https://twitter.com/dog_rates/) is a popular twitter account that, well, rates dogs. Its known for its humor, especially its rating system. It completely ignores the conventional system of numerators being lower than denominators, instead giving ratings such as 11/10, 13.5/10, etc. \n",
    "\n",
    "I decided to look into this account to see if we can learn anything about its popularity. \n",
    "  \n",
    "## First Steps\n",
    "The first thing I needed to do is wrangle my data to the point it was usable. While I won't go into much detail about it here, for anyone interested my wrangling efforts can be found [here](https://github.com/jeremymonger/data-wrangling/blob/master/wrangle_act.ipynb) and explanation [here](https://github.com/jeremymonger/data-wrangling/blob/master/wrangle_report.ipynb). Let's just say the data was pretty dirty!\n",
    "\n",
    "## How have things changed over time?\n",
    "![Average Retweets Over Time](retweets_over_time.png) ![Average Favorites Over Time](favorites_over_time.png)\n",
    "\n",
    "As we can see, the account seemed to have gained popularity over the examined time frame\n",
    "\n",
    "![Average Rating Over Time](ratings_over_time.png)\n",
    "\n",
    "Now this is an interesting graph! We can quickly notice two things:\n",
    "1. It seems that when the account first started, it hadn't yet embraced its unique rating method. \n",
    "2. There appears to be a \"rating creep\" over time. I find this actually pretty interesting and at some point will need to come back and explore this up until the modern day. Was the account just experimenting with its normal range, or was there something pushing ratings higher and higher?\n",
    "\n",
    "## Does it seem to be a dog?\n",
    "One piece of data I had was a machine learning algorithm's prediction of whether or not an image is of a dog. While this is not a perfect piece of data, it can still be interesting to look at.\n",
    "\n",
    "![Retweets if Predicted Dog](retweets_if_dog.png)\n",
    "![Favorites if Predicted Dog](favorites_if_dog.png)\n",
    "![Rating if Predicted Dog](ratings_if_dog.png) \n",
    " \n",
    "As I stated before, this part of my data is still pretty messy. But it does seem the more \"doggy\" a dog, the better it does!\n",
    "\n",
    "## Correlations\n",
    "![Scatter Matrix](scatter_matrix.png)\n",
    "\n",
    "At this point, I feel this was all expected (but still nice to confirm). We've already shown that all these factors are correlated with time, so we'd expect them to be correlated with each other. Plus intuitively we'd expect retweets and favorites to have a correlation. As for ratings... once my analysis skills are stronger I'd like to come back and investigate that one more. I'd like to see what impact rating creep has on popularity.\n",
    "\n",
    "## Wrap-up\n",
    "Well, that was fun! I think I ended up with more questions than answers (there is some depth here!) but it was interesting on what I could find. We got analytical with a silly rating system, explored growth, and even had the help of a robot! Hopefully you found it as interesting as I did!"
   ]
  },
  {
   "cell_type": "code",
   "execution_count": null,
   "metadata": {},
   "outputs": [],
   "source": []
  }
 ],
 "metadata": {
  "kernelspec": {
   "display_name": "Python 3",
   "language": "python",
   "name": "python3"
  },
  "language_info": {
   "codemirror_mode": {
    "name": "ipython",
    "version": 3
   },
   "file_extension": ".py",
   "mimetype": "text/x-python",
   "name": "python",
   "nbconvert_exporter": "python",
   "pygments_lexer": "ipython3",
   "version": "3.7.1"
  }
 },
 "nbformat": 4,
 "nbformat_minor": 2
}
